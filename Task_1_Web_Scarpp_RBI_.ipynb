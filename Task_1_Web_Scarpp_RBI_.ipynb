{
 "cells": [
  {
   "cell_type": "code",
   "execution_count": 3,
   "id": "5b3090bb",
   "metadata": {},
   "outputs": [
    {
     "name": "stdout",
     "output_type": "stream",
     "text": [
      "https://rbidocs.rbi.org.in/rdocs/ATM/DOCs/ATMAICSAPRIL2022DCE60947F453408BB0B9B12FC25B4FB3.XLSX\n",
      "https://rbidocs.rbi.org.in/rdocs/ATM/PDFs/ATMAICSAPRIL2022DCE60947F453408BB0B9B12FC25B4FB3.PDF\n",
      "https://rbidocs.rbi.org.in/rdocs/ATM/DOCs/ATM24062022B1682B16A8DE46F9A4EF93B1A45F4483.XLSX\n",
      "https://rbidocs.rbi.org.in/rdocs/ATM/PDFs/ATM24062022B1682B16A8DE46F9A4EF93B1A45F4483.PDF\n",
      "https://rbidocs.rbi.org.in/rdocs/ATM/DOCs/ATMJUNE2022609740452711440CA003589C4F9CA184.XLSX\n",
      "https://rbidocs.rbi.org.in/rdocs/ATM/PDFs/ATMJUNE2022609740452711440CA003589C4F9CA184.PDF\n",
      "https://rbidocs.rbi.org.in/rdocs/ATM/DOCs/ATMJULY20224C14FCD4FB824FF88D5F00BD92FF64C7.XLSX\n",
      "https://rbidocs.rbi.org.in/rdocs/ATM/PDFs/ATMJULY20224C14FCD4FB824FF88D5F00BD92FF64C7.PDF\n",
      "https://rbidocs.rbi.org.in/rdocs/ATM/DOCs/ATMAUGUST20222A25E249961C42F5B5AD54F25F2FC9FD.XLSX\n",
      "https://rbidocs.rbi.org.in/rdocs/ATM/PDFs/ATMAUGUST20222A25E249961C42F5B5AD54F25F2FC9FD.PDF\n",
      "https://rbidocs.rbi.org.in/rdocs/ATM/DOCs/ATMSEPT2022757FCD4121974841840DF3A80AA9B5F0.XLSX\n",
      "https://rbidocs.rbi.org.in/rdocs/ATM/PDFs/ATMSEPT2022757FCD4121974841840DF3A80AA9B5F0.PDF\n",
      "https://rbidocs.rbi.org.in/rdocs/ATM/DOCs/ATMOCTOBER202268A5EE9DC3C8404D931EEED487A22380.XLSX\n",
      "https://rbidocs.rbi.org.in/rdocs/ATM/PDFs/ATMOCTOBER202268A5EE9DC3C8404D931EEED487A22380.PDF\n",
      "https://rbidocs.rbi.org.in/rdocs/ATM/DOCs/ATMNOVEMBER202258C819A62B7A4E62A5CD18B89722B406.XLSX\n",
      "https://rbidocs.rbi.org.in/rdocs/ATM/PDFs/ATMNOVEMBER202258C819A62B7A4E62A5CD18B89722B406.PDF\n",
      "https://rbidocs.rbi.org.in/rdocs/ATM/DOCs/ATMDECEMBER2022CFA6547F8B7F4CAD9711F84B0FDA47B4.XLSX\n",
      "https://rbidocs.rbi.org.in/rdocs/ATM/PDFs/ATMDECEMBER2022CFA6547F8B7F4CAD9711F84B0FDA47B4.PDF\n",
      "https://rbidocs.rbi.org.in/rdocs/ATM/DOCs/01ATM202390AF58B0729E4A70A0665091361E142A.XLSX\n",
      "https://rbidocs.rbi.org.in/rdocs/ATM/PDFs/01ATM202390AF58B0729E4A70A0665091361E142A.PDF\n",
      "https://rbidocs.rbi.org.in/rdocs/ATM/DOCs/ATMCARDSFEBRUARY23338AEF0694164CA3A9699D81995BBD86.XLSX\n",
      "https://rbidocs.rbi.org.in/rdocs/ATM/PDFs/ATMCARDSFEBRUARY23338AEF0694164CA3A9699D81995BBD86.PDF\n",
      "https://rbidocs.rbi.org.in/rdocs/ATM/DOCs/ATMCARDSMARCH2326696F4AA2574B6FBA44619F2E06D710.XLSX\n",
      "https://rbidocs.rbi.org.in/rdocs/ATM/PDFs/ATMCARDSMARCH2326696F4AA2574B6FBA44619F2E06D710.PDF\n"
     ]
    }
   ],
   "source": [
    "#import ll libraries\n",
    "import requests\n",
    "import pandas as pd\n",
    "from bs4 import BeautifulSoup\n",
    "#website url we need to exytract data is assigned to variable url\n",
    "url = \"https://www.rbi.org.in/Scripts/ATMView.aspx?atmid=\"\n",
    "#initialise url_id \n",
    "url_id = 134\n",
    "#for getting each data set a for loop with 12 iteration\n",
    "for each_url in range(1, 13):\n",
    "    url_new = url + str(url_id)# Construct the complete URL with the current URL ID\n",
    "    response = requests.get(url_new) # Send a GET request to the URL\n",
    "\n",
    "    soup = BeautifulSoup(response.text, \"html.parser\") # Create a BeautifulSoup object to parse the HTML content\n",
    "    table = soup.find(\"table\", class_=\"tablebg\") # Find the table element with the specified class\n",
    "    \n",
    "    # Find all the anchor tags within the table\n",
    "    links = table.find_all(\"a\")\n",
    "    \n",
    "    # Extract and print the link addresses\n",
    "    for link in links:\n",
    "        address = link[\"href\"]\n",
    "        print(address)\n",
    "\n",
    "    url_id = int(url_id) + 1 # Increment the URL ID for the next iteration\n"
   ]
  }
 ],
 "metadata": {
  "kernelspec": {
   "display_name": "Python 3 (ipykernel)",
   "language": "python",
   "name": "python3"
  },
  "language_info": {
   "codemirror_mode": {
    "name": "ipython",
    "version": 3
   },
   "file_extension": ".py",
   "mimetype": "text/x-python",
   "name": "python",
   "nbconvert_exporter": "python",
   "pygments_lexer": "ipython3",
   "version": "3.9.13"
  }
 },
 "nbformat": 4,
 "nbformat_minor": 5
}
